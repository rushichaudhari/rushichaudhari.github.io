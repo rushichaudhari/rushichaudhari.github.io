{
  "nbformat": 4,
  "nbformat_minor": 0,
  "metadata": {
    "colab": {
      "name": "HiFi-GAN Fine-Tuning.ipynb",
      "provenance": [],
      "collapsed_sections": []
    },
    "kernelspec": {
      "name": "python3",
      "display_name": "Python 3"
    },
    "language_info": {
      "name": "python"
    },
    "accelerator": "GPU"
  },
  "cells": [
    {
      "cell_type": "markdown",
      "metadata": {
        "id": "Gss5Ox_RNiba"
      },
      "source": [
        "# HiFi-GAN Fine-Tuning\n",
        "To train a fine-tuned HiFi-GAN model, run the cells below and follow the instructions."
      ]
    },
    {
      "cell_type": "code",
      "metadata": {
        "id": "LCqXqFgP2ri0",
        "cellView": "form"
      },
      "source": [
        "#@markdown **Step 1:** Check which GPU you've been allocated.\n",
        "\n",
        "#@markdown You want a P100, V100 or T4. \n",
        "#@markdown If you get a P4 or K80, factory reset the runtime and try again.\n",
        "!nvidia-smi -L\n",
        "!nvidia-smi"
      ],
      "execution_count": null,
      "outputs": []
    },
    {
      "cell_type": "code",
      "metadata": {
        "id": "j9TI-Q6m3qlx",
        "cellView": "form"
      },
      "source": [
        "#@markdown **Step 2:** Mount Google Drive.\n",
        "from google.colab import drive\n",
        "drive.mount('drive')"
      ],
      "execution_count": null,
      "outputs": []
    },
    {
      "cell_type": "code",
      "metadata": {
        "id": "nfSawDUD5tqv",
        "cellView": "form"
      },
      "source": [
        "#@markdown **Step 3:** Configure training data paths. Upload the following to your Drive and change the paths below:\n",
        "#@markdown * A fully trained 22KHz Tacotron model ([training notebook here](https://colab.research.google.com/drive/1d1a4d7riehUOTofchlwo8N79n3Q7W4SK))\n",
        "#@markdown * The dataset it was trained on, packaged as a .zip or .tar file\n",
        "#@markdown * The training and validation filelists used\n",
        "tacotron_model = \"/content/drive/My Drive/path_to_tacotron\" #@param {type:\"string\"}\n",
        "tacotron_dataset = \"/content/drive/My Drive/path_to_dataset.zip\" #@param {type:\"string\"}\n",
        "train_filelist = \"/content/drive/My Drive/train_filelist.txt\" #@param {type:\"string\"}\n",
        "val_filelist = \"/content/drive/My Drive/val_filelist.txt\" #@param {type:\"string\"}\n",
        "print(\"OK\")\n"
      ],
      "execution_count": null,
      "outputs": []
    },
    {
      "cell_type": "code",
      "metadata": {
        "id": "teF-Ut8Z7Gjp",
        "cellView": "form"
      },
      "source": [
        "#@markdown **Step 4:** Download Tacotron and HiFi-GAN.\n",
        "%tensorflow_version 1.x\n",
        "import os\n",
        "!git clone -q https://github.com/SortAnon/tacotron2.git\n",
        "os.chdir('/content/tacotron2')\n",
        "!git submodule init\n",
        "!git submodule update\n",
        "os.chdir('/content')\n",
        "!git clone -q https://github.com/SortAnon/hifi-gan.git\n",
        "!pip install -q unidecode tensorboardX"
      ],
      "execution_count": null,
      "outputs": []
    },
    {
      "cell_type": "code",
      "metadata": {
        "id": "bxFr3Fdi_kOC",
        "cellView": "form"
      },
      "source": [
        "#@markdown **Step 5:** Generate ground truth-aligned spectrograms. This will help HiFi-GAN learn what your Tacotron model sounds like.\n",
        "\n",
        "#@markdown If this step fails, try the following:\n",
        "#@markdown * Go back to step 3, correct the paths and run that cell again.\n",
        "#@markdown * Make sure your filelists are correct. They should have relative paths starting with \"wavs/\".\n",
        "\n",
        "import os\n",
        "import shutil\n",
        "os.chdir('/content/tacotron2')\n",
        "if os.path.exists(\"/content/tacotron2/wavs\"):\n",
        "    shutil.rmtree(\"/content/tacotron2/wavs\")\n",
        "os.mkdir(\"wavs\")\n",
        "os.chdir(\"wavs\")\n",
        "if tacotron_dataset[-4:] == \".zip\":\n",
        "    !unzip -q \"{tacotron_dataset}\"\n",
        "elif tacotron_dataset[-4:] == \".tar\":\n",
        "    !tar -xf \"{tacotron_dataset}\"\n",
        "else:\n",
        "    raise Exception(\"Unknown extension for tacotron_dataset\")\n",
        "if os.path.exists(\"/content/tacotron2/wavs/wavs\"):\n",
        "    shutil.move(\"/content/tacotron2/wavs/wavs\", \"/content/tacotron2/tempwavs\")\n",
        "    shutil.rmtree(\"/content/tacotron2/wavs\")\n",
        "    shutil.move(\"/content/tacotron2/tempwavs\", \"/content/tacotron2/wavs\")\n",
        "\n",
        "os.chdir('/content/tacotron2')\n",
        "shutil.copyfile(tacotron_model, \"/content/tacotron2/tacomodel\")\n",
        "seen_files = []\n",
        "with open(train_filelist) as f:\n",
        "    taco_filelist = f.readlines()\n",
        "with open(val_filelist) as f:\n",
        "    taco_filelist.extend(f.readlines())\n",
        "with open(\"/content/tacotron2/filelists/ljs_audio_text_train_filelist.txt\", \"w\") as f:\n",
        "    for x in taco_filelist:\n",
        "        if x.split(\"|\")[0] not in seen_files:\n",
        "            seen_files.append(x.split(\"|\")[0])\n",
        "            f.write(x)\n",
        "if os.path.exists(\"/content/tacotron2/GTAOutput\"):\n",
        "    shutil.rmtree(\"/content/tacotron2/GTAOutput\")\n",
        "os.mkdir(\"GTAOutput\")\n",
        "!python GTA.py -c tacomodel -o GTAOutput"
      ],
      "execution_count": null,
      "outputs": []
    },
    {
      "cell_type": "code",
      "metadata": {
        "id": "nM7-bMpKO7U2",
        "cellView": "form"
      },
      "source": [
        "#@markdown **Step 6:** Train HiFi-GAN. 5,000+ steps are recommended. Stop this cell to finish training the model.\n",
        "\n",
        "#@markdown The checkpoints are saved to the path configured below. If an existing checkpoint is found,\n",
        "#@markdown the notebook will resume training from it. Otherwise, it'll start from a universal model.\n",
        "\n",
        "#@markdown When done, generate a Drive share link for the \"g_00000000\" file, with permissions set to \"Anyone with the link\". \n",
        "#@markdown Save a copy of the [inference notebook](https://colab.research.google.com/drive/1dxVcqe4m-AU8NAA1I1MW1N9HYBO_oii_),\n",
        "#@markdown add a new character entry to it, and use that file as your HIFIGAN_ID.\n",
        "\n",
        "output_dir = \"/content/drive/My Drive/hifimodels/name_of_character\"  #@param {type:\"string\"}\n",
        "checkpoint_interval = 250 #@param {type:\"integer\"}\n",
        "\n",
        "import gdown\n",
        "d = 'https://drive.google.com/uc?id='\n",
        "\n",
        "os.chdir('/content/hifi-gan')\n",
        "if os.path.exists(\"/content/hifi-gan/ft_dataset\"):\n",
        "    shutil.rmtree(\"/content/hifi-gan/ft_dataset\")\n",
        "shutil.copytree(\"/content/tacotron2/GTAOutput/mels/\", \"/content/hifi-gan/ft_dataset/wavs/\")\n",
        "if os.path.exists(\"/content/hifi-gan/wavs\"):\n",
        "    shutil.rmtree(\"/content/hifi-gan/wavs\")\n",
        "shutil.copytree(\"/content/tacotron2/wavs/\", \"/content/hifi-gan/wavs/\")\n",
        "shutil.copyfile(train_filelist, \"/content/hifi-gan/training.txt\")\n",
        "shutil.copyfile(val_filelist, \"/content/hifi-gan/validation.txt\")\n",
        "\n",
        "if not os.path.exists(\"/content/drive/My Drive\"):\n",
        "    raise Exception(\"Cannot find Google Drive\")\n",
        "if \"/content/drive/My Drive\" not in output_dir:\n",
        "    print(\"Warning: Output directory does not seem to be in Google Drive!\")\n",
        "if not os.path.exists(output_dir):\n",
        "    os.makedirs(output_dir)\n",
        "if not os.path.exists(os.path.join(output_dir, \"do_00000000\")):\n",
        "    print(\"Downloading universal model...\")\n",
        "    gdown.download(d+\"1O63eHZR9t1haCdRHQcEgMfMNxiOciSru\", os.path.join(output_dir, \"do_00000000\"), quiet=False)\n",
        "    gdown.download(d+\"1qpgI41wNXFcH-iKq1Y42JlBC9j0je8PW\", os.path.join(output_dir, \"g_00000000\"), quiet=False)\n",
        "    start_from_universal = \"--warm_start True \"\n",
        "else:\n",
        "    start_from_universal = \"\"\n",
        "\n",
        "!python train.py --fine_tuning True --config config_v1b.json \\\n",
        "{start_from_universal}\\\n",
        "--checkpoint_interval {checkpoint_interval} --checkpoint_path \"{output_dir}\" \\\n",
        "--input_training_file \"/content/hifi-gan/training.txt\" \\\n",
        "--input_validation_file \"/content/hifi-gan/validation.txt\" \\\n",
        "--input_wavs_dir \"\" --input_mels_dir \"ft_dataset\"\n",
        "\n",
        "\n"
      ],
      "execution_count": null,
      "outputs": []
    }
  ]
}